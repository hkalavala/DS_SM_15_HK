{
 "cells": [
  {
   "cell_type": "markdown",
   "metadata": {},
   "source": [
    "# Project 1\n",
    "\n",
    "In this first project you will create a framework to scope out data science projects. This framework will provide you with a guide to develop a well-articulated problem statement and analysis plan that will be robust and reproducible."
   ]
  },
  {
   "cell_type": "markdown",
   "metadata": {},
   "source": [
    "### Read and evaluate the following problem statement: \n",
    "Determine which free-tier customers will covert to paying customers, using demographic data collected at signup (age, gender, location, and profession) and customer useage data (days since last log in, and activity score 1 = active user, 0= inactive user) based on Hooli data from Jan-Apr 2015. \n"
   ]
  },
  {
   "cell_type": "markdown",
   "metadata": {},
   "source": [
    "#### 1. What is the outcome?"
   ]
  },
  {
   "cell_type": "markdown",
   "metadata": {},
   "source": [
    "Answer: A Yes or No (binary) prediction of which free-tier customers will convert to paying customers."
   ]
  },
  {
   "cell_type": "markdown",
   "metadata": {},
   "source": [
    "#### 2. What are the predictors/covariates? "
   ]
  },
  {
   "cell_type": "markdown",
   "metadata": {},
   "source": [
    "Answer: \n",
    "a) \"Age\" , \"Gender\" , \"Location (address/city/state/zip)\" , \"Profession\" ( Demographic data ) \n",
    "b) \"Days Since Last Login\" , \"Activity Score\" ( Customer Usage data based on Hooli data )"
   ]
  },
  {
   "cell_type": "markdown",
   "metadata": {},
   "source": [
    "#### 3. What timeframe is this data relevent for?"
   ]
  },
  {
   "cell_type": "markdown",
   "metadata": {},
   "source": [
    "Answer: \n",
    "Demographic Data : As of Signup\n",
    "Customer Usage Data : Jan-Apr 2015"
   ]
  },
  {
   "cell_type": "markdown",
   "metadata": {},
   "source": [
    "#### 4. What is the hypothesis?"
   ]
  },
  {
   "cell_type": "markdown",
   "metadata": {},
   "source": [
    "Answer: Demographic data that was collected for the customers at signup and their usage data from Jan-Apr 2015 will help predict if the free-tier customer will convert to a paying customer as of a given point in time."
   ]
  },
  {
   "cell_type": "markdown",
   "metadata": {},
   "source": [
    "## Let's get started with our dataset ( Admissions dataset )"
   ]
  },
  {
   "cell_type": "markdown",
   "metadata": {},
   "source": [
    "#### 1. Create a data dictionary "
   ]
  },
  {
   "cell_type": "markdown",
   "metadata": {},
   "source": [
    "Answer: \n",
    "\n",
    "Variable | Description | Type of Variable\n",
    "---| ---| ---\n",
    "admit | whether the applicant was admitted to school ( outcome or target variable )| binary categorical \n",
    "gre |  gre score| continuous\n",
    "gpa | student grade point average | continuous\n",
    "prestige | rank of an applicant's undergraduate alma mater, with 1 being the highest and 4 as the lowest| categorical"
   ]
  },
  {
   "cell_type": "markdown",
   "metadata": {},
   "source": [
    "We would like to explore the association between X and Y "
   ]
  },
  {
   "cell_type": "markdown",
   "metadata": {},
   "source": [
    "#### 2. What is the outcome?"
   ]
  },
  {
   "cell_type": "markdown",
   "metadata": {},
   "source": [
    "Answer: Whether the applicant gets an admission ('Yes'/'No') "
   ]
  },
  {
   "cell_type": "markdown",
   "metadata": {},
   "source": [
    "#### 3. What are the predictors/covariates? "
   ]
  },
  {
   "cell_type": "markdown",
   "metadata": {},
   "source": [
    "Answer: \n",
    "gre , gpa , prestige or rank"
   ]
  },
  {
   "cell_type": "markdown",
   "metadata": {},
   "source": [
    "#### 4. What timeframe is this data relevent for?"
   ]
  },
  {
   "cell_type": "markdown",
   "metadata": {},
   "source": [
    "Answer: \n",
    "As of the application submission ( point in time )"
   ]
  },
  {
   "cell_type": "markdown",
   "metadata": {},
   "source": [
    "#### 4. What is the hypothesis?"
   ]
  },
  {
   "cell_type": "markdown",
   "metadata": {},
   "source": [
    "Answer: \n",
    "The data/variables corresponding to the student application are associated with whether the student gets an admission or not ( -- Alternate Hypothesis , something that we want to prove ) \n"
   ]
  },
  {
   "cell_type": "raw",
   "metadata": {},
   "source": [
    "    Using the above information, write a well-formed problem statement. "
   ]
  },
  {
   "cell_type": "markdown",
   "metadata": {},
   "source": [
    "## Problem Statement\n",
    "Problem Statement 1:\n",
    "Given the applicant's gre , gpa and rank as of the time of the application submission for Jan 2016 applicants, determine if there is a correlation between gre/gpa/rank and the admission outcome ( Whether an applicant was admitted or not ).\n",
    "\n",
    "Problem Statement 2:\n",
    "Given the datapoints of gre, gpa and rank available as of the application submission for historical applicants (Jan 2016 applicants) and the admission outcome (whether an applicant was admitted or not), put together a model to predict the outcome for new applicants that will be filled out the same application in Jan 2017.\n"
   ]
  },
  {
   "cell_type": "markdown",
   "metadata": {},
   "source": [
    "### Exploratory Analysis Plan"
   ]
  },
  {
   "cell_type": "markdown",
   "metadata": {},
   "source": [
    "Using the lab from a class as a guide, create an exploratory analysis plan. "
   ]
  },
  {
   "cell_type": "markdown",
   "metadata": {},
   "source": [
    "#### 1. What are the goals of the exploratory analysis? "
   ]
  },
  {
   "cell_type": "markdown",
   "metadata": {
    "collapsed": true
   },
   "source": [
    "Answer: \n",
    "To understand the following:\n",
    "1)Type of data ( cross-sectional vs longitudinal ) - in this case the admissions datset is cross-sectional\n",
    "2)Distribution of the data\n",
    "3)Data quality\n",
    "4)Missing values analysis\n",
    "5)Outlier analysis\n",
    "6)Dispersion of the data \n",
    "6)Correlation between predictors "
   ]
  },
  {
   "cell_type": "markdown",
   "metadata": {},
   "source": [
    "#### 2a. What are the assumptions of the distribution of data? "
   ]
  },
  {
   "cell_type": "markdown",
   "metadata": {},
   "source": [
    "Answer: That it's a Normal Distribution."
   ]
  },
  {
   "cell_type": "markdown",
   "metadata": {},
   "source": [
    "#### 2b. How will determine the distribution of your data? "
   ]
  },
  {
   "cell_type": "markdown",
   "metadata": {
    "collapsed": true
   },
   "source": [
    "Answer: Using density plots , histograms , scatter plots "
   ]
  },
  {
   "cell_type": "markdown",
   "metadata": {},
   "source": [
    "#### 3a. How might outliers impact your analysis? "
   ]
  },
  {
   "cell_type": "markdown",
   "metadata": {
    "collapsed": true
   },
   "source": [
    "Answer: Outliers could distort the results or outcome of the analysis."
   ]
  },
  {
   "cell_type": "markdown",
   "metadata": {},
   "source": [
    "#### 3b. How will you test for outliers? "
   ]
  },
  {
   "cell_type": "markdown",
   "metadata": {},
   "source": [
    "Answer: By visualzing data using Box Plots, Scatter Plots or others."
   ]
  },
  {
   "cell_type": "markdown",
   "metadata": {},
   "source": [
    "#### 4a. What is colinearity? "
   ]
  },
  {
   "cell_type": "markdown",
   "metadata": {
    "collapsed": true
   },
   "source": [
    "Answer: Collinearity is a phenomenon in which two or more predictor variables in a given dataset are highly correlated, meaning that one can be linearly predicted from the others with a substantial degree of accuracy."
   ]
  },
  {
   "cell_type": "markdown",
   "metadata": {},
   "source": [
    "#### 4b. How will you test for colinearity? "
   ]
  },
  {
   "cell_type": "markdown",
   "metadata": {},
   "source": [
    "Answer: By using functions or methods like .corr() on pandas dataframe object that are available to test collinearity between variables and plotting them as scatter plots or heat plots for visual representation."
   ]
  },
  {
   "cell_type": "markdown",
   "metadata": {},
   "source": [
    "#### 5. What is your exploratory analysis plan?\n",
    "Using the above information, write an exploratory analysis plan that would allow you or a colleague to reproduce your analysis 1 year from now. "
   ]
  },
  {
   "cell_type": "markdown",
   "metadata": {},
   "source": [
    "Answer: \n",
    "Understand the source of data and each of the specific variables ( dependent and independent ) by revieweing the data dictionary. Understand the timeframe of the data and determine if it's cross sections/longitudinal. Plot the data using histograms/density plots/scatter plot/others  to see which distribution it might fit into. Understand the summary statistics for the data like min , max , mean , median , mode , standard deviation , variance to get a sense of it's central tendency , dispersion and outliers. Understand the quality of data based on where it's sources from talking to subject matter experts. Review to data to see if there are missing values and think through how we want to handle missing values for the given problem statement.  Understand if there is some kind of a correlation between the individual predictors.\n"
   ]
  },
  {
   "cell_type": "markdown",
   "metadata": {},
   "source": [
    "## Bonus Questions:\n",
    "1. Outline your analysis method for predicting your outcome\n",
    "2. Write an alternative problem statement for your dataset\n",
    "3. Articulate the assumptions and risks of the alternative model"
   ]
  },
  {
   "cell_type": "code",
   "execution_count": null,
   "metadata": {
    "collapsed": true
   },
   "outputs": [],
   "source": [
    "1. Analysis method for predicting the outcome\n",
    "\n",
    "For predicting the outcome for new applications , in addition to the above described \n",
    "exploratory analysis , understand if new useful features can be put together based on \n",
    "the given predictors.\n",
    "Understand what percentage of the total applicants ( from the dataset ) got admission.\n",
    "understand the type target variable (dependent variable ). In this case it's \n",
    "a binary categorical and what model can be used for the prediction ( ex: logistic regression,\n",
    "stepwise logistic regression). \n",
    "\n",
    "2. Alternate problem statement ( statement 2 above )\n",
    "\n",
    "Given the datapoints of gre, gpa and rank available as of the application submission \n",
    "for historical applicants (Jan 2016 applicants) and the admission outcome \n",
    "(whether an applicant was admitted or not), put together a model to predict the outcome \n",
    "for new applicants that filled out the same application in Jan 2017."
   ]
  }
 ],
 "metadata": {
  "kernelspec": {
   "display_name": "Python 2",
   "language": "python",
   "name": "python2"
  },
  "language_info": {
   "codemirror_mode": {
    "name": "ipython",
    "version": 2
   },
   "file_extension": ".py",
   "mimetype": "text/x-python",
   "name": "python",
   "nbconvert_exporter": "python",
   "pygments_lexer": "ipython2",
   "version": "2.7.13"
  }
 },
 "nbformat": 4,
 "nbformat_minor": 0
}
