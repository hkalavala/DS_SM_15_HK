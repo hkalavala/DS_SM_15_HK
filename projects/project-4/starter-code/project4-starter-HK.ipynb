{
 "cells": [
  {
   "cell_type": "markdown",
   "metadata": {},
   "source": [
    "# Project 4\n",
    "\n",
    "In this project, you will summarize and present your analysis from Projects 1-3."
   ]
  },
  {
   "cell_type": "markdown",
   "metadata": {},
   "source": [
    "### Intro: Write a problem Statement/ Specific Aim for this project"
   ]
  },
  {
   "cell_type": "markdown",
   "metadata": {},
   "source": [
    "Answer: Using a historical point in time snapshot of the student application data points : gre , gpa and rank of undergrad school and admission outcomes , build a model to predict the probability of a new student getting admission to grad school based on the same independent variables. Also analyze which independent variables have a strong correlation with the outcome."
   ]
  },
  {
   "cell_type": "markdown",
   "metadata": {},
   "source": [
    "### Dataset:  Write up a description of your data and any cleaning that was completed"
   ]
  },
  {
   "cell_type": "markdown",
   "metadata": {},
   "source": [
    "Answer: \n",
    "The independent variables/covariates are:\n",
    "1) gre ( continuous )\n",
    "2) gpa ( continuous )\n",
    "3) rank/prestige ( categorical ) - 4 values 1,2,3,4\n",
    "\n",
    "The dependent variable is:\n",
    "admit ( binary categorical )\n",
    "\n",
    "Cleaning:\n",
    "1) Drop the rows with null values\n",
    "2) Convert the prestige values from float (came in as float when loaded ) to int\n",
    "3) Get dummy variables corresponding to 'prestige' and drop one of them to avoid multicollinearity."
   ]
  },
  {
   "cell_type": "markdown",
   "metadata": {
    "collapsed": true
   },
   "source": [
    "### Demo: Provide a table that explains the data by admission status"
   ]
  },
  {
   "cell_type": "markdown",
   "metadata": {},
   "source": [
    "Mean (STD) or counts by admission status for each variable \n",
    "\n",
    "| Not Admitted | Admitted\n",
    "---| ---|---\n",
    "GPA | 3.34(mean) 0.38(std)  | 3.49(mean) 0.37(std)\n",
    "GRE |573.58(mean) 116.05(std) | 618.57(mean) 109.26(std)\n",
    "Prestige 1 | frequency (46%) | frequency (54%)\n",
    "Prestige 2 | frequency (64%) | frequency (36%)\n",
    "Prestige 3 |frequency (77%) | frequency (23%)\n",
    "Prestige 4 |frequency (82%) | frequency (18%)"
   ]
  },
  {
   "cell_type": "markdown",
   "metadata": {},
   "source": [
    "### Methods: Write up the methods used in your analysis"
   ]
  },
  {
   "cell_type": "markdown",
   "metadata": {},
   "source": [
    "Answer: \n",
    "1)We leveraged methods like describe() to get summary statistics.\n",
    "2)We used dropna() to drop records/obsevations with null values.\n",
    "3)We used methods relate to scatter plots and distribution to perform the distribution analysis and understand collinearity \n",
    "4)crosstab() to view data as a crosstab\n",
    "5)We used get_dummies() to convert categorical variable into separate discrete variables\n",
    "6)Finally we used logistic regression method to train the model to predict the probability of admission into a grad school for the given set of predictor variables.\n",
    "7)We used summary() to show the result summary of a model fit\n"
   ]
  },
  {
   "cell_type": "markdown",
   "metadata": {},
   "source": [
    "### Results: Write up your results"
   ]
  },
  {
   "cell_type": "markdown",
   "metadata": {},
   "source": [
    "Answer: Based on the logistic regression results , it appears that the rank of the undergratuate college that the student attended has the strongest predictor of whether a student get admission in the grad school based on this dataset followed by the gpa score and then the gre.\n",
    "\n",
    "\n",
    "Logit Regression Results (used Maximum Likelihood Estimation - MLE ):\n",
    "\n",
    "                           Logit Regression Results                           \n",
    "==============================================================================\n",
    "Dep. Variable:                  admit   No. Observations:                  397\n",
    "Model:                          Logit   Df Residuals:                      391\n",
    "Method:                           MLE   Df Model:                            5\n",
    "Date:                Sat, 10 Jun 2017   Pseudo R-squ.:                 0.08166\n",
    "Time:                        19:58:59   Log-Likelihood:                -227.82\n",
    "converged:                       True   LL-Null:                       -248.08\n",
    "                                        LLR p-value:                 1.176e-07\n",
    "==============================================================================\n",
    "                 coef    std err          z      P>|z|      [95.0% Conf. Int.]\n",
    "------------------------------------------------------------------------------\n",
    "gre            0.0022      0.001      2.028      0.043      7.44e-05     0.004\n",
    "gpa            0.7793      0.333      2.344      0.019         0.128     1.431\n",
    "prestige_1     1.5534      0.417      3.721      0.000         0.735     2.372\n",
    "prestige_2     0.8733      0.367      2.378      0.017         0.153     1.593\n",
    "prestige_3     0.2147      0.393      0.547      0.584        -0.555     0.984\n",
    "intercept     -5.4303      1.140     -4.764      0.000        -7.664    -3.196\n",
    "==============================================================================\n",
    "\n",
    "\n",
    "OLS Regression Results:\n",
    "\n",
    "                            OLS Regression Results                            \n",
    "==============================================================================\n",
    "Dep. Variable:                  admit   R-squared:                       0.099\n",
    "Model:                            OLS   Adj. R-squared:                  0.087\n",
    "Method:                 Least Squares   F-statistic:                     8.594\n",
    "Date:                Sat, 10 Jun 2017   Prob (F-statistic):           9.71e-08\n",
    "Time:                        20:00:09   Log-Likelihood:                -239.02\n",
    "No. Observations:                 397   AIC:                             490.0\n",
    "Df Residuals:                     391   BIC:                             513.9\n",
    "Df Model:                           5                                         \n",
    "Covariance Type:            nonrobust                                         \n",
    "==============================================================================\n",
    "                 coef    std err          t      P>|t|      [95.0% Conf. Int.]\n",
    "------------------------------------------------------------------------------\n",
    "gre            0.0004      0.000      1.997      0.047      6.48e-06     0.001\n",
    "gpa            0.1508      0.064      2.349      0.019         0.025     0.277\n",
    "prestige_1     0.3240      0.079      4.082      0.000         0.168     0.480\n",
    "prestige_2     0.1605      0.066      2.440      0.015         0.031     0.290\n",
    "prestige_3     0.0330      0.068      0.485      0.628        -0.101     0.167\n",
    "intercept     -0.5617      0.208     -2.704      0.007        -0.970    -0.153\n",
    "==============================================================================\n",
    "Omnibus:                      152.312   Durbin-Watson:                   1.946\n",
    "Prob(Omnibus):                  0.000   Jarque-Bera (JB):               50.314\n",
    "Skew:                           0.678   Prob(JB):                     1.19e-11\n",
    "Kurtosis:                       1.904   Cond. No.                     5.76e+03\n",
    "==============================================================================\n",
    "\n",
    "\n"
   ]
  },
  {
   "cell_type": "markdown",
   "metadata": {},
   "source": [
    "### Visuals: Provide a table or visualization of these results"
   ]
  },
  {
   "cell_type": "markdown",
   "metadata": {},
   "source": [
    "<img src='gre vs pred.png' height= 25% width= 25%>"
   ]
  },
  {
   "cell_type": "markdown",
   "metadata": {},
   "source": [
    "<img src='gpa vs pred.png' height= 25% width= 25%>"
   ]
  },
  {
   "cell_type": "markdown",
   "metadata": {},
   "source": [
    "### Discussion: Write up your discussion and future steps"
   ]
  },
  {
   "cell_type": "markdown",
   "metadata": {},
   "source": [
    "Answer: Understand what's the difference between using Logit and OLS models. Both models seem to be from the statsmodel package. Explore if other data sources can add value to this analysis.   Understand what type of plots are available to plot and analyze the results of a logistic regression. From the above results from the model developed using the provided data set , it appears that the gre and gpa only matter when the student attended a rank 4 college. If they attended a rank 1,2,3 college it doesn't seem to matter. Is that a reasonable conclusion? It seems like we might want to explore additional data to confirm if that hyposthesis is true."
   ]
  }
 ],
 "metadata": {
  "kernelspec": {
   "display_name": "Python 2",
   "language": "python",
   "name": "python2"
  },
  "language_info": {
   "codemirror_mode": {
    "name": "ipython",
    "version": 2
   },
   "file_extension": ".py",
   "mimetype": "text/x-python",
   "name": "python",
   "nbconvert_exporter": "python",
   "pygments_lexer": "ipython2",
   "version": "2.7.13"
  }
 },
 "nbformat": 4,
 "nbformat_minor": 0
}
